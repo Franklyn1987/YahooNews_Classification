{
 "cells": [
  {
   "cell_type": "code",
   "execution_count": 1,
   "metadata": {
    "collapsed": true
   },
   "outputs": [],
   "source": [
    "# -*- encoding: utf-8 -*-\n",
    "import sys\n",
    "reload(sys)\n",
    "sys.setdefaultencoding('utf-8')"
   ]
  },
  {
   "cell_type": "code",
   "execution_count": 2,
   "metadata": {
    "collapsed": true
   },
   "outputs": [],
   "source": [
    "import numpy as np\n",
    "import logging"
   ]
  },
  {
   "cell_type": "code",
   "execution_count": 3,
   "metadata": {
    "collapsed": true
   },
   "outputs": [],
   "source": [
    "# 获取训练数据\n",
    "def getTrainSet(inFile):\n",
    "    # 文章标题集\n",
    "    title_set = []\n",
    "    # 训练集\n",
    "    train_set=[]\n",
    "    # 读入训练数据\n",
    "    f=open(inFile)\n",
    "    lines=f.readlines()\n",
    "    for line in lines:\n",
    "        article = line.replace('\\n','').split('\\t')\n",
    "        title = article[0]\n",
    "        title_set.append(title)\n",
    "        content = article[1:]\n",
    "        train_set.append(content)\n",
    "    f.close()\n",
    "    return (title_set,train_set)"
   ]
  },
  {
   "cell_type": "code",
   "execution_count": 4,
   "metadata": {
    "collapsed": true
   },
   "outputs": [],
   "source": [
    "from sklearn.preprocessing import LabelEncoder\n",
    "# 处理标题数据里包含的分类，生成target标签\n",
    "def processLable(text):\n",
    "    target = []\n",
    "    le = LabelEncoder()\n",
    "    for t in text:\n",
    "        catlg = t.split(\"#\")[0]\n",
    "        target.append(catlg)\n",
    "    return le.fit_transform(target)"
   ]
  },
  {
   "cell_type": "code",
   "execution_count": 5,
   "metadata": {
    "collapsed": false
   },
   "outputs": [],
   "source": [
    "# 把文本内容转化为LSI向量\n",
    "from gensim import corpora,models,utils,matutils\n",
    "def vecTransformLSI(train_set):\n",
    "    # 生成字典\n",
    "    dictionary = corpora.Dictionary(train_set)\n",
    "    dictionary.filter_extremes(no_below=1,no_above=1,keep_n=None)\n",
    "    \n",
    "    # 生成语料\n",
    "    corpus = [dictionary.doc2bow(text) for text in train_set]\n",
    "    \n",
    "    #使用数字语料生成TFIDF模型\n",
    "    tfidfModel = models.TfidfModel(corpus)\n",
    "\n",
    "    #把全部语料向量化成TFIDF模式,这个tfidfModel可以传入二维数组\n",
    "    tfidfVectors = tfidfModel[corpus]\n",
    "    \n",
    "    #通过TFIDF向量生成LSI模型,id2word表示编号的对应词典,num_topics表示主题数\n",
    "    lsi = models.LsiModel(tfidfVectors, id2word=dictionary, num_topics=400)\n",
    "\n",
    "    #把所有TFIDF向量变成LSI的向量\n",
    "    corpus_vec = lsi[tfidfVectors]\n",
    "    \n",
    "    # 把预料库转化为scipy稀疏矩阵\n",
    "    matrix = matutils.corpus2csc(corpus_vec).toarray()\n",
    "    print \"matrix shape=\",matrix.shape\n",
    "    return matrix"
   ]
  },
  {
   "cell_type": "code",
   "execution_count": 6,
   "metadata": {
    "collapsed": false
   },
   "outputs": [],
   "source": [
    "# 把文本内容转化为LDA向量\n",
    "from gensim import corpora,models,utils,matutils\n",
    "def vecTransformLDA(train_set):\n",
    "    # 生成字典\n",
    "    dictionary = corpora.Dictionary(train_set)\n",
    "    dictionary.filter_extremes(no_below=1,no_above=1,keep_n=None)\n",
    "    \n",
    "    # 生成语料\n",
    "    corpus = [dictionary.doc2bow(text) for text in train_set]\n",
    "    \n",
    "    #使用数字语料生成TFIDF模型\n",
    "    tfidfModel = models.TfidfModel(corpus)\n",
    "\n",
    "    #把全部语料向量化成TFIDF模式,这个tfidfModel可以传入二维数组\n",
    "    tfidfVectors = tfidfModel[corpus]\n",
    "    \n",
    "    #通过TFIDF向量生成LDA模型,id2word表示编号的对应词典,num_topics表示主题数\n",
    "    lda = models.LdaModel(tfidfVectors, id2word=dictionary, num_topics=400)\n",
    "\n",
    "    #把所有TFIDF向量变成LDA的向量\n",
    "    corpus_vec = lda[tfidfVectors]\n",
    "    \n",
    "    # 把预料库转化为scipy稀疏矩阵\n",
    "    matrix = matutils.corpus2csc(corpus_vec).toarray()\n",
    "    print \"matrix shape=\",matrix.shape\n",
    "    return matrix"
   ]
  },
  {
   "cell_type": "code",
   "execution_count": 7,
   "metadata": {
    "collapsed": true
   },
   "outputs": [],
   "source": [
    "def trainModel():\n",
    "    \n",
    "    logging.basicConfig(format='%(asctime)s : %(levelname)s : %(message)s', level=logging.INFO)\n",
    "    \n",
    "    inFile = \"./data/all.txt\"\n",
    "    # 读入数据文件\n",
    "    label,text = getTrainSet(inFile)\n",
    "    # 获取标签，并写入文件\n",
    "    target = processLable(label)\n",
    "    np.save(\"./data/target.npy\",target)\n",
    "    \n",
    "    # 转换数据，并写入文件\n",
    "    vec = vecTransformLSI(text)\n",
    "    np.save(\"./data/textData_LSI.npy\",vec)\n",
    "    \n",
    "    # 转换数据，并写入文件\n",
    "    vec = vecTransformLDA(text)\n",
    "    np.save(\"./data/textData_LDA.npy\",vec)"
   ]
  },
  {
   "cell_type": "code",
   "execution_count": 8,
   "metadata": {
    "collapsed": true
   },
   "outputs": [],
   "source": [
    "def main():\n",
    "    \n",
    "    trainModel()\n",
    "    "
   ]
  },
  {
   "cell_type": "code",
   "execution_count": 9,
   "metadata": {
    "collapsed": false
   },
   "outputs": [],
   "source": [
    "if __name__ == '__main__':\n",
    "    main()"
   ]
  }
 ],
 "metadata": {
  "anaconda-cloud": {},
  "kernelspec": {
   "display_name": "Python [default]",
   "language": "python",
   "name": "python2"
  },
  "language_info": {
   "codemirror_mode": {
    "name": "ipython",
    "version": 2
   },
   "file_extension": ".py",
   "mimetype": "text/x-python",
   "name": "python",
   "nbconvert_exporter": "python",
   "pygments_lexer": "ipython2",
   "version": "2.7.12"
  }
 },
 "nbformat": 4,
 "nbformat_minor": 1
}
